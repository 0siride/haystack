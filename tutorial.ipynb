{
 "cells": [
  {
   "cell_type": "code",
   "execution_count": 1,
   "metadata": {
    "pycharm": {
     "is_executing": false
    }
   },
   "outputs": [
    {
     "name": "stderr",
     "output_type": "stream",
     "text": [
      "11/11/2019 18:43:25 - INFO - root -   Using localhost sqlite as the database backend. as Database not configured. Add a qa_config.py file in the Python path with DATABASE_URL set.Continuing with the default sqlite on localhost.\n",
      "I1111 18:43:25.533496 140652943304512 file_utils.py:39] PyTorch version 1.3.0 available.\n",
      "I1111 18:43:25.611577 140652943304512 modeling_xlnet.py:194] Better speed can be achieved with apex installed from https://www.github.com/nvidia/apex .\n"
     ]
    }
   ],
   "source": [
    "from farm_haystack.reader.adaptive_model import FARMReader\n",
    "from farm_haystack.retriever.tfidf import TfidfRetriever\n",
    "from farm_haystack import Finder\n",
    "from farm_haystack.indexing.io import write_documents_to_db, fetch_archive_from_http\n",
    "from farm_haystack.indexing.cleaning import clean_wiki_text\n",
    "from farm_haystack.utils import print_answers"
   ]
  },
  {
   "cell_type": "code",
   "execution_count": 2,
   "metadata": {
    "pycharm": {
     "is_executing": false
    }
   },
   "outputs": [
    {
     "name": "stderr",
     "output_type": "stream",
     "text": [
      "I1111 18:43:25.834958 140652943304512 io.py:46] Fetching from https://s3.eu-central-1.amazonaws.com/deepset.ai-farm-qa/datasets/documents/wiki_gameofthrones_txt.zip to `data/article_txt_got`\n",
      "\r",
      "  0%|          | 0/1167348 [00:00<?, ?B/s]\r",
      "100%|██████████| 1167348/1167348 [00:00<00:00, 13662984.26B/s]\n",
      "I1111 18:43:26.548232 140652943304512 io.py:31] Wrote 517 to DB\n"
     ]
    }
   ],
   "source": [
    "# Init a database (default: sqllite)\n",
    "from farm_haystack.database import db\n",
    "db.create_all()\n",
    "\n",
    "# Let's first get some documents that we want to query\n",
    "# Here: Wikipedia articles for Game of Thrones\n",
    "\n",
    "doc_dir = \"data/article_txt_got\"\n",
    "s3_url = \"https://s3.eu-central-1.amazonaws.com/deepset.ai-farm-qa/datasets/documents/wiki_gameofthrones_txt.zip\"\n",
    "\n",
    "fetch_archive_from_http(url=s3_url, output_dir=doc_dir)\n",
    "\n",
    "# We supply a function to clean the docs and write them afterwards to our DB\n",
    "write_documents_to_db(document_dir=doc_dir, clean_func=clean_wiki_text)"
   ]
  },
  {
   "cell_type": "code",
   "execution_count": 3,
   "metadata": {
    "pycharm": {
     "is_executing": false,
     "name": "#%%\n"
    }
   },
   "outputs": [
    {
     "name": "stderr",
     "output_type": "stream",
     "text": [
      "I1111 18:43:26.589386 140652943304512 tfidf.py:68] Found 517 candidates in DB\n"
     ]
    }
   ],
   "source": [
    "# A retriever identifies the k most promising chunks of text that might contain the answer for our question\n",
    "# Retrievers use some simple but fast algorithm, here: TF-IDF\n",
    "\n",
    "retriever = TfidfRetriever()"
   ]
  },
  {
   "cell_type": "code",
   "execution_count": null,
   "metadata": {
    "pycharm": {
     "is_executing": false
    }
   },
   "outputs": [],
   "source": [
    "# A reader scans the text chunks in detail and extracts the k best answers\n",
    "# Reader use more powerful but slower deep learning models, here: a BERT QA model trained via FARM on Squad 2.0\n",
    "reader = FARMReader(model_dir=\"../FARM/saved_models/bert-english-qa-large\")"
   ]
  },
  {
   "cell_type": "code",
   "execution_count": null,
   "metadata": {
    "pycharm": {
     "is_executing": false
    }
   },
   "outputs": [],
   "source": [
    "# The Finder sticks together retriever and retriever in a pipeline to answer our actual questions \n",
    "\n",
    "finder = Finder(reader, retriever)"
   ]
  },
  {
   "cell_type": "code",
   "execution_count": null,
   "metadata": {
    "pycharm": {
     "is_executing": false
    }
   },
   "outputs": [],
   "source": [
    "# Voilá! Ask a question!\n",
    "\n",
    "#prediction = finder.get_answers(question=\"Who created the Dothraki vocabulary?\", top_k_reader=5)\n",
    "#prediction = finder.get_answers(question=\"Who is the sister of Sansa?\", top_k_reader=5)\n",
    "prediction = finder.get_answers(question=\"Who is the father of Arya Stark?\", top_k_reader=3, top_k_retriever=5)"
   ]
  },
  {
   "cell_type": "code",
   "execution_count": null,
   "metadata": {
    "pycharm": {
     "is_executing": false,
     "name": "#%%\n"
    }
   },
   "outputs": [],
   "source": [
    "print_answers(prediction, details=\"minimal\")"
   ]
  },
  {
   "cell_type": "code",
   "execution_count": null,
   "metadata": {
    "pycharm": {
     "name": "#%%\n"
    }
   },
   "outputs": [],
   "source": [
    "\n"
   ]
  }
 ],
 "metadata": {
  "kernelspec": {
   "display_name": "Python 3",
   "language": "python",
   "name": "python3"
  },
  "language_info": {
   "codemirror_mode": {
    "name": "ipython",
    "version": 3
   },
   "file_extension": ".py",
   "mimetype": "text/x-python",
   "name": "python",
   "nbconvert_exporter": "python",
   "pygments_lexer": "ipython3",
   "version": "3.7.4"
  },
  "pycharm": {
   "stem_cell": {
    "cell_type": "raw",
    "metadata": {
     "collapsed": false
    },
    "source": []
   }
  }
 },
 "nbformat": 4,
 "nbformat_minor": 2
}
